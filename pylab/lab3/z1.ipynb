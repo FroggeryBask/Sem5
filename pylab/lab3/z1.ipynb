{
 "cells": [
  {
   "cell_type": "markdown",
   "metadata": {},
   "source": [
    "#### Drzewa decyzyjne\n",
    "\n",
    "Poniższy przykład opiera się na danych dotyczących zdolności kredytowej"
   ]
  },
  {
   "cell_type": "code",
   "execution_count": 3,
   "metadata": {},
   "outputs": [
    {
     "name": "stdout",
     "output_type": "stream",
     "text": [
      "    Gender Married  Dependents     Education Self_Employed  ApplicantIncome  \\\n",
      "0        0      No           0      Graduate            No             5849   \n",
      "1        0     Yes           1      Graduate            No             4583   \n",
      "2        0     Yes           0      Graduate           Yes             3000   \n",
      "3        0     Yes           0  Not Graduate            No             2583   \n",
      "4        0      No           0      Graduate            No             6000   \n",
      "..     ...     ...         ...           ...           ...              ...   \n",
      "609      1      No           0      Graduate            No             2900   \n",
      "610      0     Yes           3      Graduate            No             4106   \n",
      "611      0     Yes           1      Graduate            No             8072   \n",
      "612      0     Yes           2      Graduate            No             7583   \n",
      "613      1      No           0      Graduate           Yes             4583   \n",
      "\n",
      "     CoapplicantIncome  LoanAmount  Loan_Amount_Term  Credit_History  \\\n",
      "0                  0.0  146.412162               360               1   \n",
      "1               1508.0  128.000000               360               1   \n",
      "2                  0.0   66.000000               360               1   \n",
      "3               2358.0  120.000000               360               1   \n",
      "4                  0.0  141.000000               360               1   \n",
      "..                 ...         ...               ...             ...   \n",
      "609                0.0   71.000000               360               1   \n",
      "610                0.0   40.000000               180               1   \n",
      "611              240.0  253.000000               360               1   \n",
      "612                0.0  187.000000               360               1   \n",
      "613                0.0  133.000000               360               0   \n",
      "\n",
      "    Property_Area Loan_Status  \n",
      "0           Urban           Y  \n",
      "1           Rural           N  \n",
      "2           Urban           Y  \n",
      "3           Urban           Y  \n",
      "4           Urban           Y  \n",
      "..            ...         ...  \n",
      "609         Rural           Y  \n",
      "610         Rural           Y  \n",
      "611         Urban           Y  \n",
      "612         Urban           Y  \n",
      "613     Semiurban           N  \n",
      "\n",
      "[614 rows x 12 columns]\n"
     ]
    },
    {
     "name": "stderr",
     "output_type": "stream",
     "text": [
      "/tmp/ipykernel_43181/2507430838.py:5: FutureWarning: ChainedAssignmentError: behaviour will change in pandas 3.0!\n",
      "You are setting values through chained assignment. Currently this works in certain cases, but when using Copy-on-Write (which will become the default behaviour in pandas 3.0) this will never work to update the original DataFrame or Series, because the intermediate object on which we are setting values will behave as a copy.\n",
      "A typical example is when you are setting values in a column of a DataFrame, like:\n",
      "\n",
      "df[\"col\"][row_indexer] = value\n",
      "\n",
      "Use `df.loc[row_indexer, \"col\"] = values` instead, to perform the assignment in a single step and ensure this keeps updating the original `df`.\n",
      "\n",
      "See the caveats in the documentation: https://pandas.pydata.org/pandas-docs/stable/user_guide/indexing.html#returning-a-view-versus-a-copy\n",
      "\n",
      "  data['Gender'][mask] = 1\n",
      "/tmp/ipykernel_43181/2507430838.py:5: SettingWithCopyWarning: \n",
      "A value is trying to be set on a copy of a slice from a DataFrame\n",
      "\n",
      "See the caveats in the documentation: https://pandas.pydata.org/pandas-docs/stable/user_guide/indexing.html#returning-a-view-versus-a-copy\n",
      "  data['Gender'][mask] = 1\n",
      "/tmp/ipykernel_43181/2507430838.py:6: FutureWarning: ChainedAssignmentError: behaviour will change in pandas 3.0!\n",
      "You are setting values through chained assignment. Currently this works in certain cases, but when using Copy-on-Write (which will become the default behaviour in pandas 3.0) this will never work to update the original DataFrame or Series, because the intermediate object on which we are setting values will behave as a copy.\n",
      "A typical example is when you are setting values in a column of a DataFrame, like:\n",
      "\n",
      "df[\"col\"][row_indexer] = value\n",
      "\n",
      "Use `df.loc[row_indexer, \"col\"] = values` instead, to perform the assignment in a single step and ensure this keeps updating the original `df`.\n",
      "\n",
      "See the caveats in the documentation: https://pandas.pydata.org/pandas-docs/stable/user_guide/indexing.html#returning-a-view-versus-a-copy\n",
      "\n",
      "  data ['Gender'][~mask] = 0\n",
      "/tmp/ipykernel_43181/2507430838.py:6: SettingWithCopyWarning: \n",
      "A value is trying to be set on a copy of a slice from a DataFrame\n",
      "\n",
      "See the caveats in the documentation: https://pandas.pydata.org/pandas-docs/stable/user_guide/indexing.html#returning-a-view-versus-a-copy\n",
      "  data ['Gender'][~mask] = 0\n"
     ]
    }
   ],
   "source": [
    "import pandas as pd\n",
    "data = pd.read_excel('practice_lab_3.xlsx')\n",
    "columns = list(data.columns)\n",
    "mask = data['Gender'].values == 'Female'\n",
    "data['Gender'][mask] = 1\n",
    "data ['Gender'][~mask] = 0\n",
    "print(data)\n",
    "\n",
    "cat_feature = pd.Categorical(X.Property_Area)\n",
    "one_hot = pd.get_dummies(cat_feature)\n",
    "data = pd.concat([data, one_hot], axis = 1)\n",
    "data = data.drop(columns = ['Property_Area'])"
   ]
  }
 ],
 "metadata": {
  "kernelspec": {
   "display_name": "Python 3",
   "language": "python",
   "name": "python3"
  },
  "language_info": {
   "codemirror_mode": {
    "name": "ipython",
    "version": 3
   },
   "file_extension": ".py",
   "mimetype": "text/x-python",
   "name": "python",
   "nbconvert_exporter": "python",
   "pygments_lexer": "ipython3",
   "version": "3.12.5"
  }
 },
 "nbformat": 4,
 "nbformat_minor": 2
}
